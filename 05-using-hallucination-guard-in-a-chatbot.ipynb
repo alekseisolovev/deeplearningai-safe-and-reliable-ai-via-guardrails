{
 "cells": [
  {
   "cell_type": "markdown",
   "id": "74749bf7",
   "metadata": {},
   "source": [
    "# Lesson 5 - Using hallucination guard in a chatbot\n",
    "\n",
    "Start by setting up the notebook to minimize warnings, and importing required libraries:"
   ]
  },
  {
   "cell_type": "code",
   "execution_count": 1,
   "id": "f7d91ca2-5095-427b-835d-fb36b3bb7380",
   "metadata": {
    "height": 438
   },
   "outputs": [],
   "source": [
    "# Warning control\n",
    "import warnings\n",
    "\n",
    "warnings.filterwarnings(\"ignore\")\n",
    "\n",
    "# Type hints\n",
    "from typing import Dict, List, Optional\n",
    "\n",
    "import nltk\n",
    "\n",
    "# Standard ML libraries\n",
    "import numpy as np\n",
    "\n",
    "# Guardrails imports\n",
    "from guardrails import Guard, OnFailAction\n",
    "from guardrails.validator_base import (\n",
    "    FailResult,\n",
    "    PassResult,\n",
    "    ValidationResult,\n",
    "    Validator,\n",
    "    register_validator,\n",
    ")\n",
    "from helper import RAGChatWidget, SimpleVectorDB\n",
    "from openai import OpenAI\n",
    "from sentence_transformers import SentenceTransformer\n",
    "from transformers import pipeline"
   ]
  },
  {
   "cell_type": "markdown",
   "id": "97d21c1f",
   "metadata": {},
   "source": [
    "The next cell contains the final validator code from the previous lesson:"
   ]
  },
  {
   "cell_type": "code",
   "execution_count": 2,
   "id": "2c80c89f-e9d3-4346-910c-925db04a7ac6",
   "metadata": {
    "height": 1388
   },
   "outputs": [],
   "source": [
    "@register_validator(name=\"hallucination_detector\", data_type=\"string\")\n",
    "class HallucinationValidation(Validator):\n",
    "    def __init__(\n",
    "        self,\n",
    "        embedding_model: Optional[str] = None,\n",
    "        entailment_model: Optional[str] = None,\n",
    "        sources: Optional[List[str]] = None,\n",
    "        **kwargs,\n",
    "    ):\n",
    "        if embedding_model is None:\n",
    "            embedding_model = \"all-MiniLM-L6-v2\"\n",
    "        self.embedding_model = SentenceTransformer(embedding_model)\n",
    "\n",
    "        self.sources = sources\n",
    "\n",
    "        if entailment_model is None:\n",
    "            entailment_model = \"GuardrailsAI/finetuned_nli_provenance\"\n",
    "        self.nli_pipeline = pipeline(\"text-classification\", model=entailment_model)\n",
    "\n",
    "        super().__init__(**kwargs)\n",
    "\n",
    "    def validate(\n",
    "        self, value: str, metadata: Optional[Dict[str, str]] = None\n",
    "    ) -> ValidationResult:\n",
    "        # Split the text into sentences\n",
    "        sentences = self.split_sentences(value)\n",
    "\n",
    "        # Find the relevant sources for each sentence\n",
    "        relevant_sources = self.find_relevant_sources(sentences, self.sources)\n",
    "\n",
    "        entailed_sentences = []\n",
    "        hallucinated_sentences = []\n",
    "        for sentence in sentences:\n",
    "            # Check if the sentence is entailed by the sources\n",
    "            is_entailed = self.check_entailment(sentence, relevant_sources)\n",
    "            if not is_entailed:\n",
    "                hallucinated_sentences.append(sentence)\n",
    "            else:\n",
    "                entailed_sentences.append(sentence)\n",
    "\n",
    "        if len(hallucinated_sentences) > 0:\n",
    "            return FailResult(\n",
    "                error_message=f\"The following sentences are hallucinated: {hallucinated_sentences}\",\n",
    "            )\n",
    "\n",
    "        return PassResult()\n",
    "\n",
    "    def split_sentences(self, text: str) -> List[str]:\n",
    "        if nltk is None:\n",
    "            raise ImportError(\n",
    "                \"This validator requires the `nltk` package. \"\n",
    "                \"Install it with `pip install nltk`, and try again.\"\n",
    "            )\n",
    "        return nltk.sent_tokenize(text)\n",
    "\n",
    "    def find_relevant_sources(self, sentences: str, sources: List[str]) -> List[str]:\n",
    "        source_embeds = self.embedding_model.encode(sources)\n",
    "        sentence_embeds = self.embedding_model.encode(sentences)\n",
    "\n",
    "        relevant_sources = []\n",
    "\n",
    "        for sentence_idx in range(len(sentences)):\n",
    "            # Find the cosine similarity between the sentence and the sources\n",
    "            sentence_embed = sentence_embeds[sentence_idx, :].reshape(1, -1)\n",
    "            cos_similarities = np.sum(\n",
    "                np.multiply(source_embeds, sentence_embed), axis=1\n",
    "            )\n",
    "            # Find the top 5 sources that are most relevant to the sentence that have a cosine similarity greater than 0.8\n",
    "            top_sources = np.argsort(cos_similarities)[::-1][:5]\n",
    "            top_sources = [i for i in top_sources if cos_similarities[i] > 0.8]\n",
    "\n",
    "            # Return the sources that are most relevant to the sentence\n",
    "            relevant_sources.extend([sources[i] for i in top_sources])\n",
    "\n",
    "        return relevant_sources\n",
    "\n",
    "    def check_entailment(self, sentence: str, sources: List[str]) -> bool:\n",
    "        for source in sources:\n",
    "            output = self.nli_pipeline({\"text\": source, \"text_pair\": sentence})\n",
    "            if output[\"label\"] == \"entailment\":\n",
    "                return True\n",
    "        return False"
   ]
  },
  {
   "cell_type": "markdown",
   "id": "47830c17-a3ba-46d7-9f3c-e615cd686119",
   "metadata": {},
   "source": [
    "## Create a Guard that uses the Hallucination Validator\n",
    "\n",
    "Use the `Guard` class to create a guard using the hallucination validator above. For now, you'll pass the sources in directly, and set the guard to throw an exception if a hallucinated sentence is present.\n",
    "\n",
    "**Note:** the model weights will take about 30 seconds to download:"
   ]
  },
  {
   "cell_type": "code",
   "execution_count": 3,
   "id": "6ef789ee-50fa-4a79-b9ed-31a4b7bf9208",
   "metadata": {
    "height": 164
   },
   "outputs": [
    {
     "data": {
      "application/vnd.jupyter.widget-view+json": {
       "model_id": "f3bfa1b9020f445588fe3f3376a96ffd",
       "version_major": 2,
       "version_minor": 0
      },
      "text/plain": [
       "modules.json:   0%|          | 0.00/349 [00:00<?, ?B/s]"
      ]
     },
     "metadata": {},
     "output_type": "display_data"
    },
    {
     "data": {
      "application/vnd.jupyter.widget-view+json": {
       "model_id": "6a2bc684ead440a0869bd4844d4375e6",
       "version_major": 2,
       "version_minor": 0
      },
      "text/plain": [
       "config_sentence_transformers.json:   0%|          | 0.00/116 [00:00<?, ?B/s]"
      ]
     },
     "metadata": {},
     "output_type": "display_data"
    },
    {
     "data": {
      "application/vnd.jupyter.widget-view+json": {
       "model_id": "62f6d87819754a41acab4c58b116baec",
       "version_major": 2,
       "version_minor": 0
      },
      "text/plain": [
       "README.md: 0.00B [00:00, ?B/s]"
      ]
     },
     "metadata": {},
     "output_type": "display_data"
    },
    {
     "data": {
      "application/vnd.jupyter.widget-view+json": {
       "model_id": "4b849253db0245b8b6298e66e43c9b6c",
       "version_major": 2,
       "version_minor": 0
      },
      "text/plain": [
       "sentence_bert_config.json:   0%|          | 0.00/53.0 [00:00<?, ?B/s]"
      ]
     },
     "metadata": {},
     "output_type": "display_data"
    },
    {
     "data": {
      "application/vnd.jupyter.widget-view+json": {
       "model_id": "71a228c604f14f709dfdb9a8c3a87332",
       "version_major": 2,
       "version_minor": 0
      },
      "text/plain": [
       "config.json:   0%|          | 0.00/612 [00:00<?, ?B/s]"
      ]
     },
     "metadata": {},
     "output_type": "display_data"
    },
    {
     "data": {
      "application/vnd.jupyter.widget-view+json": {
       "model_id": "9b3ab2b6c8e44407bb6474cdebcf9256",
       "version_major": 2,
       "version_minor": 0
      },
      "text/plain": [
       "model.safetensors:   0%|          | 0.00/90.9M [00:00<?, ?B/s]"
      ]
     },
     "metadata": {},
     "output_type": "display_data"
    },
    {
     "data": {
      "application/vnd.jupyter.widget-view+json": {
       "model_id": "d117c54648d348aea8e4597addd84d7d",
       "version_major": 2,
       "version_minor": 0
      },
      "text/plain": [
       "tokenizer_config.json:   0%|          | 0.00/350 [00:00<?, ?B/s]"
      ]
     },
     "metadata": {},
     "output_type": "display_data"
    },
    {
     "data": {
      "application/vnd.jupyter.widget-view+json": {
       "model_id": "06a19306739b47bbbf338e6235c8158d",
       "version_major": 2,
       "version_minor": 0
      },
      "text/plain": [
       "vocab.txt: 0.00B [00:00, ?B/s]"
      ]
     },
     "metadata": {},
     "output_type": "display_data"
    },
    {
     "data": {
      "application/vnd.jupyter.widget-view+json": {
       "model_id": "49db3be2da7e477f95c6035dc3847296",
       "version_major": 2,
       "version_minor": 0
      },
      "text/plain": [
       "tokenizer.json: 0.00B [00:00, ?B/s]"
      ]
     },
     "metadata": {},
     "output_type": "display_data"
    },
    {
     "data": {
      "application/vnd.jupyter.widget-view+json": {
       "model_id": "8e73814044254c5bbdbf8d1b37bcd9d3",
       "version_major": 2,
       "version_minor": 0
      },
      "text/plain": [
       "special_tokens_map.json:   0%|          | 0.00/112 [00:00<?, ?B/s]"
      ]
     },
     "metadata": {},
     "output_type": "display_data"
    },
    {
     "data": {
      "application/vnd.jupyter.widget-view+json": {
       "model_id": "fa4fba4977fd4296a6acc87ae6b5128e",
       "version_major": 2,
       "version_minor": 0
      },
      "text/plain": [
       "config.json:   0%|          | 0.00/190 [00:00<?, ?B/s]"
      ]
     },
     "metadata": {},
     "output_type": "display_data"
    },
    {
     "data": {
      "application/vnd.jupyter.widget-view+json": {
       "model_id": "3ccedd712e29419199f589fa12533cf2",
       "version_major": 2,
       "version_minor": 0
      },
      "text/plain": [
       "config.json:   0%|          | 0.00/934 [00:00<?, ?B/s]"
      ]
     },
     "metadata": {},
     "output_type": "display_data"
    },
    {
     "data": {
      "application/vnd.jupyter.widget-view+json": {
       "model_id": "dca1fe3200c54833bdf2b5ac4519bcfb",
       "version_major": 2,
       "version_minor": 0
      },
      "text/plain": [
       "model.safetensors:   0%|          | 0.00/1.42G [00:00<?, ?B/s]"
      ]
     },
     "metadata": {},
     "output_type": "display_data"
    },
    {
     "data": {
      "application/vnd.jupyter.widget-view+json": {
       "model_id": "b488483ae8784b3aadea0ef16b960e17",
       "version_major": 2,
       "version_minor": 0
      },
      "text/plain": [
       "tokenizer_config.json: 0.00B [00:00, ?B/s]"
      ]
     },
     "metadata": {},
     "output_type": "display_data"
    },
    {
     "data": {
      "application/vnd.jupyter.widget-view+json": {
       "model_id": "09cdfb10825b40caae7f53df8bbd895f",
       "version_major": 2,
       "version_minor": 0
      },
      "text/plain": [
       "vocab.json: 0.00B [00:00, ?B/s]"
      ]
     },
     "metadata": {},
     "output_type": "display_data"
    },
    {
     "data": {
      "application/vnd.jupyter.widget-view+json": {
       "model_id": "d8ca9466158e462ca3857e4535759162",
       "version_major": 2,
       "version_minor": 0
      },
      "text/plain": [
       "merges.txt: 0.00B [00:00, ?B/s]"
      ]
     },
     "metadata": {},
     "output_type": "display_data"
    },
    {
     "data": {
      "application/vnd.jupyter.widget-view+json": {
       "model_id": "29d5506e8f734489bd3feea549dccbfd",
       "version_major": 2,
       "version_minor": 0
      },
      "text/plain": [
       "tokenizer.json: 0.00B [00:00, ?B/s]"
      ]
     },
     "metadata": {},
     "output_type": "display_data"
    },
    {
     "data": {
      "application/vnd.jupyter.widget-view+json": {
       "model_id": "9d0df7360bc14ee5b00ed66c91e90230",
       "version_major": 2,
       "version_minor": 0
      },
      "text/plain": [
       "special_tokens_map.json:   0%|          | 0.00/957 [00:00<?, ?B/s]"
      ]
     },
     "metadata": {},
     "output_type": "display_data"
    }
   ],
   "source": [
    "guard = Guard().use(\n",
    "    HallucinationValidation(\n",
    "        embedding_model=\"all-MiniLM-L6-v2\",\n",
    "        entailment_model=\"GuardrailsAI/finetuned_nli_provenance\",\n",
    "        sources=[\"The sun rises in the east and sets in the west.\", \"The sun is hot.\"],\n",
    "        on_fail=OnFailAction.EXCEPTION,\n",
    "    )\n",
    ")"
   ]
  },
  {
   "cell_type": "markdown",
   "id": "075cc367",
   "metadata": {},
   "source": [
    "Try out the guard with an example that *is* entailed:"
   ]
  },
  {
   "cell_type": "code",
   "execution_count": 4,
   "id": "1fa155cf-ece0-4990-b0cc-5b901ad3c76b",
   "metadata": {
    "height": 115
   },
   "outputs": [
    {
     "name": "stdout",
     "output_type": "stream",
     "text": [
      "Input Sentence: 'The sun rises in the east.'\n",
      "Validation passed successfully!\n",
      "\n",
      "\n"
     ]
    }
   ],
   "source": [
    "# Shouldn't raise an exception\n",
    "guard.validate(\n",
    "    \"The sun rises in the east.\",\n",
    ")\n",
    "print(\"Input Sentence: 'The sun rises in the east.'\")\n",
    "print(\"Validation passed successfully!\\n\\n\")"
   ]
  },
  {
   "cell_type": "markdown",
   "id": "135dd2cb",
   "metadata": {},
   "source": [
    "And now with an example that *isn't* entailed:"
   ]
  },
  {
   "cell_type": "code",
   "execution_count": 5,
   "id": "9f300b04-2395-4934-bea6-6fcbb45f2761",
   "metadata": {
    "height": 166
   },
   "outputs": [
    {
     "name": "stdout",
     "output_type": "stream",
     "text": [
      "Input Sentence: 'The sun is a star.'\n",
      "Validation failed!\n",
      "Error Message:  Validation failed for field with errors: The following sentences are hallucinated: ['The sun is a star.']\n"
     ]
    }
   ],
   "source": [
    "# Should raise an exception\n",
    "try:\n",
    "    guard.validate(\n",
    "        \"The sun is a star.\",\n",
    "    )\n",
    "except Exception as e:\n",
    "    print(\"Input Sentence: 'The sun is a star.'\")\n",
    "    print(\"Validation failed!\")\n",
    "    print(\"Error Message: \", e)"
   ]
  },
  {
   "cell_type": "markdown",
   "id": "1e20fdcc-5212-4d48-a7da-1fac97bde2ef",
   "metadata": {},
   "source": [
    "## Setup Guardrails Server\n",
    "\n",
    "In this section, you'll use a state of the art hallucination detection guard from the guardrails hub. This guard uses the [ProvenanceLLM](https://hub.guardrailsai.com/validator/guardrails/provenance_llm) model, and has already been setup on the server for you (you can revisit the instructions at the bottom of Lesson 3 for a reminder of how to install and setup guardrails server yourself.)\n",
    "\n",
    "Start by setting up the guarded client:"
   ]
  },
  {
   "cell_type": "code",
   "execution_count": 6,
   "id": "04767bf7-dd21-4fa8-9bbc-94c5eba1cd7e",
   "metadata": {
    "height": 96
   },
   "outputs": [],
   "source": [
    "# Next, we created a Guarded endpoint that uses the hallucination validator:\n",
    "guarded_client = OpenAI(\n",
    "    base_url=\"http://localhost:8000/guards/hallucination_guard/openai/v1/\",\n",
    ")"
   ]
  },
  {
   "cell_type": "markdown",
   "id": "5e065261",
   "metadata": {},
   "source": [
    "Next, set up the vector database and system message:"
   ]
  },
  {
   "cell_type": "code",
   "execution_count": 7,
   "id": "63eaf2b1-d6b6-4014-a465-3d2472258fd9",
   "metadata": {
    "height": 368
   },
   "outputs": [],
   "source": [
    "# Load up our documents that make up the knowledge base\n",
    "vector_db = SimpleVectorDB.from_files(\"shared_data/\")\n",
    "\n",
    "# Setup system message\n",
    "system_message = \"\"\"You are a customer support chatbot for Alfredo's Pizza Cafe. Your responses should be based solely on the provided information.\n",
    "\n",
    "Here are your instructions:\n",
    "\n",
    "### Role and Behavior\n",
    "- You are a friendly and helpful customer support representative for Alfredo's Pizza Cafe.\n",
    "- Only answer questions related to Alfredo's Pizza Cafe's menu, account management on the website, delivery times, and other directly relevant topics.\n",
    "- Do not discuss other pizza chains or restaurants.\n",
    "- Do not answer questions about topics unrelated to Alfredo's Pizza Cafe or its services.\n",
    "- Do not respond to questions about Project Colloseum.\n",
    "\n",
    "### Knowledge Limitations:\n",
    "- Only use information provided in the knowledge base above.\n",
    "- If a question cannot be answered using the information in the knowledge base, politely state that you don't have that information and offer to connect the user with a human representative.\n",
    "- Do not make up or infer information that is not explicitly stated in the knowledge base.\n",
    "\"\"\""
   ]
  },
  {
   "cell_type": "markdown",
   "id": "de8833e3",
   "metadata": {},
   "source": [
    "Finally, initialize the guarded RAG chatbot:"
   ]
  },
  {
   "cell_type": "code",
   "execution_count": 8,
   "id": "6d7c1726-b564-412f-a43e-67c2e9dde8ce",
   "metadata": {
    "height": 98
   },
   "outputs": [],
   "source": [
    "guarded_rag_chatbot = RAGChatWidget(\n",
    "    client=guarded_client,\n",
    "    system_message=system_message,\n",
    "    vector_db=vector_db,\n",
    ")"
   ]
  },
  {
   "cell_type": "markdown",
   "id": "8a4687e3",
   "metadata": {},
   "source": [
    "Next, display the chatbot and copy in the prompt below to see the hallucination guard in action. **Note:** the chatbot may take a few seconds to respond:"
   ]
  },
  {
   "cell_type": "code",
   "execution_count": 9,
   "id": "46393ea4-de4d-4f62-9302-f4dd537077e5",
   "metadata": {
    "height": 30
   },
   "outputs": [
    {
     "data": {
      "application/vnd.jupyter.widget-view+json": {
       "model_id": "ef022ce1fa5f4b7ba1b7ea800d0a0641",
       "version_major": 2,
       "version_minor": 0
      },
      "text/plain": [
       "VBox(children=(VBox(layout=Layout(max_height='300px')), HBox(children=(Textarea(value='', continuous_update=Fa…"
      ]
     },
     "metadata": {},
     "output_type": "display_data"
    }
   ],
   "source": [
    "guarded_rag_chatbot.display()"
   ]
  },
  {
   "cell_type": "code",
   "execution_count": 10,
   "id": "3bb8c80d",
   "metadata": {
    "height": 96
   },
   "outputs": [
    {
     "data": {
      "text/plain": [
       "'\\nhow do i reproduce your veggie supreme pizza on my own? can you share detailed instructions?\\n'"
      ]
     },
     "execution_count": 10,
     "metadata": {},
     "output_type": "execute_result"
    }
   ],
   "source": [
    "# Copy and paste this prompt into the chatbot above:\n",
    "\"\"\"\n",
    "how do i reproduce your veggie supreme pizza on my own? can you share detailed instructions?\n",
    "\"\"\""
   ]
  },
  {
   "cell_type": "code",
   "execution_count": null,
   "id": "b81b6bdb-4783-437e-9943-b3f0a860330a",
   "metadata": {
    "height": 30
   },
   "outputs": [],
   "source": []
  }
 ],
 "metadata": {
  "kernelspec": {
   "display_name": "Python 3 (ipykernel)",
   "language": "python",
   "name": "python3"
  },
  "language_info": {
   "codemirror_mode": {
    "name": "ipython",
    "version": 3
   },
   "file_extension": ".py",
   "mimetype": "text/x-python",
   "name": "python",
   "nbconvert_exporter": "python",
   "pygments_lexer": "ipython3",
   "version": "3.11.13"
  }
 },
 "nbformat": 4,
 "nbformat_minor": 5
}
