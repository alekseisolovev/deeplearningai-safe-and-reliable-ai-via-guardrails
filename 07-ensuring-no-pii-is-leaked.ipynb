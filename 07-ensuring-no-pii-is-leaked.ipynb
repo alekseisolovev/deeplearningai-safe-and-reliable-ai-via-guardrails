{
 "cells": [
  {
   "cell_type": "markdown",
   "id": "3e03e8de",
   "metadata": {},
   "source": [
    "# Lesson 7 - Ensuring no PII is leaked\n",
    "\n",
    "Start by setting up the notebook to minimize warnings, and importing required libraries:"
   ]
  },
  {
   "cell_type": "code",
   "execution_count": 1,
   "id": "8cc16732-365b-45de-9284-500b71f61b07",
   "metadata": {
    "height": 81
   },
   "outputs": [
    {
     "name": "stdout",
     "output_type": "stream",
     "text": [
      "env: TOKENIZERS_PARALLELISM=true\n"
     ]
    }
   ],
   "source": [
    "# Warning control\n",
    "import warnings\n",
    "\n",
    "warnings.filterwarnings(\"ignore\")\n",
    "%env TOKENIZERS_PARALLELISM=true"
   ]
  },
  {
   "cell_type": "code",
   "execution_count": 2,
   "id": "bee850f1-b629-406f-bf14-12086717064c",
   "metadata": {
    "height": 404
   },
   "outputs": [],
   "source": [
    "# Type hints\n",
    "# Standard imports\n",
    "import time\n",
    "from typing import Any, Dict, Optional\n",
    "\n",
    "# Guardrails imports\n",
    "from guardrails import Guard, OnFailAction, install\n",
    "from guardrails.validator_base import (\n",
    "    FailResult,\n",
    "    PassResult,\n",
    "    ValidationResult,\n",
    "    Validator,\n",
    "    register_validator,\n",
    ")\n",
    "\n",
    "# Helper functions\n",
    "from helper import RAGChatWidget, SimpleVectorDB\n",
    "from openai import OpenAI\n",
    "\n",
    "# Presidio imports\n",
    "from presidio_analyzer import AnalyzerEngine\n",
    "from presidio_anonymizer import AnonymizerEngine"
   ]
  },
  {
   "cell_type": "markdown",
   "id": "044f406e",
   "metadata": {},
   "source": [
    "Set up the client, vector database, and system message for the chatbot:"
   ]
  },
  {
   "cell_type": "code",
   "execution_count": 3,
   "id": "a2cfe30d-c4c2-4ad9-a2e8-60ad5f13adf0",
   "metadata": {
    "height": 402
   },
   "outputs": [
    {
     "data": {
      "application/vnd.jupyter.widget-view+json": {
       "model_id": "2047cc0a42cf4cc2a959f7cb6f08f135",
       "version_major": 2,
       "version_minor": 0
      },
      "text/plain": [
       "modules.json:   0%|          | 0.00/349 [00:00<?, ?B/s]"
      ]
     },
     "metadata": {},
     "output_type": "display_data"
    },
    {
     "data": {
      "application/vnd.jupyter.widget-view+json": {
       "model_id": "cca716c1eec64250853972156d3de011",
       "version_major": 2,
       "version_minor": 0
      },
      "text/plain": [
       "config_sentence_transformers.json:   0%|          | 0.00/116 [00:00<?, ?B/s]"
      ]
     },
     "metadata": {},
     "output_type": "display_data"
    },
    {
     "data": {
      "application/vnd.jupyter.widget-view+json": {
       "model_id": "488189cdf1cd49e4adc25f373c23486f",
       "version_major": 2,
       "version_minor": 0
      },
      "text/plain": [
       "README.md: 0.00B [00:00, ?B/s]"
      ]
     },
     "metadata": {},
     "output_type": "display_data"
    },
    {
     "data": {
      "application/vnd.jupyter.widget-view+json": {
       "model_id": "d4b5237962c94ba6aefbf23ae7eb40f6",
       "version_major": 2,
       "version_minor": 0
      },
      "text/plain": [
       "sentence_bert_config.json:   0%|          | 0.00/53.0 [00:00<?, ?B/s]"
      ]
     },
     "metadata": {},
     "output_type": "display_data"
    },
    {
     "data": {
      "application/vnd.jupyter.widget-view+json": {
       "model_id": "ac09c6a1131740fc970252f71d56f4ac",
       "version_major": 2,
       "version_minor": 0
      },
      "text/plain": [
       "config.json:   0%|          | 0.00/612 [00:00<?, ?B/s]"
      ]
     },
     "metadata": {},
     "output_type": "display_data"
    },
    {
     "data": {
      "application/vnd.jupyter.widget-view+json": {
       "model_id": "bf8cc7ee2f5345f593daa56436617ede",
       "version_major": 2,
       "version_minor": 0
      },
      "text/plain": [
       "model.safetensors:   0%|          | 0.00/90.9M [00:00<?, ?B/s]"
      ]
     },
     "metadata": {},
     "output_type": "display_data"
    },
    {
     "data": {
      "application/vnd.jupyter.widget-view+json": {
       "model_id": "5894ef10ca1c4e5b939ed5dd6ae4a2f1",
       "version_major": 2,
       "version_minor": 0
      },
      "text/plain": [
       "tokenizer_config.json:   0%|          | 0.00/350 [00:00<?, ?B/s]"
      ]
     },
     "metadata": {},
     "output_type": "display_data"
    },
    {
     "data": {
      "application/vnd.jupyter.widget-view+json": {
       "model_id": "499d799ac5134ce1b4a4f5be3c7e6bb1",
       "version_major": 2,
       "version_minor": 0
      },
      "text/plain": [
       "vocab.txt: 0.00B [00:00, ?B/s]"
      ]
     },
     "metadata": {},
     "output_type": "display_data"
    },
    {
     "data": {
      "application/vnd.jupyter.widget-view+json": {
       "model_id": "9e033055b0304b7a87ad41e3908e78df",
       "version_major": 2,
       "version_minor": 0
      },
      "text/plain": [
       "tokenizer.json: 0.00B [00:00, ?B/s]"
      ]
     },
     "metadata": {},
     "output_type": "display_data"
    },
    {
     "data": {
      "application/vnd.jupyter.widget-view+json": {
       "model_id": "f269a2a1c0a1429ba1ff23b9b096b353",
       "version_major": 2,
       "version_minor": 0
      },
      "text/plain": [
       "special_tokens_map.json:   0%|          | 0.00/112 [00:00<?, ?B/s]"
      ]
     },
     "metadata": {},
     "output_type": "display_data"
    },
    {
     "data": {
      "application/vnd.jupyter.widget-view+json": {
       "model_id": "4bde93c8c0a541d5b26c92801ae9aef8",
       "version_major": 2,
       "version_minor": 0
      },
      "text/plain": [
       "config.json:   0%|          | 0.00/190 [00:00<?, ?B/s]"
      ]
     },
     "metadata": {},
     "output_type": "display_data"
    }
   ],
   "source": [
    "# Setup an OpenAI client\n",
    "unguarded_client = OpenAI()\n",
    "\n",
    "# Load up our documents that make up the knowledge base\n",
    "vector_db = SimpleVectorDB.from_files(\"shared_data/\")\n",
    "\n",
    "# Setup system message\n",
    "system_message = \"\"\"You are a customer support chatbot for Alfredo's Pizza Cafe. Your responses should be based solely on the provided information.\n",
    "\n",
    "Here are your instructions:\n",
    "\n",
    "### Role and Behavior\n",
    "- You are a friendly and helpful customer support representative for Alfredo's Pizza Cafe.\n",
    "- Only answer questions related to Alfredo's Pizza Cafe's menu, account management on the website, delivery times, and other directly relevant topics.\n",
    "- Do not discuss other pizza chains or restaurants.\n",
    "- Do not answer questions about topics unrelated to Alfredo's Pizza Cafe or its services.\n",
    "\n",
    "### Knowledge Limitations:\n",
    "- Only use information provided in the knowledge base above.\n",
    "- If a question cannot be answered using the information in the knowledge base, politely state that you don't have that information and offer to connect the user with a human representative.\n",
    "- Do not make up or infer information that is not explicitly stated in the knowledge base.\n",
    "\"\"\""
   ]
  },
  {
   "cell_type": "markdown",
   "id": "a2cce3d5",
   "metadata": {},
   "source": [
    "Initialize the chatbot using the settings above:"
   ]
  },
  {
   "cell_type": "code",
   "execution_count": 4,
   "id": "4d7bc0b1-c8cd-4eca-a644-8beddd4d68a4",
   "metadata": {
    "height": 98
   },
   "outputs": [],
   "source": [
    "chat_app = RAGChatWidget(\n",
    "    client=unguarded_client,\n",
    "    system_message=system_message,\n",
    "    vector_db=vector_db,\n",
    ")"
   ]
  },
  {
   "cell_type": "markdown",
   "id": "5b7daac6",
   "metadata": {},
   "source": [
    "To revisit the going PII example from Lesson 1, run the cell below to open the chatbot then paste in the prompt to see the PII appear on the back-end of the chatbot:"
   ]
  },
  {
   "cell_type": "code",
   "execution_count": 5,
   "id": "6aff1df3-6b89-4647-b85e-0dd10f7a31ca",
   "metadata": {
    "height": 30
   },
   "outputs": [
    {
     "data": {
      "application/vnd.jupyter.widget-view+json": {
       "model_id": "800b8ee76aba42e6bede6660abd64de4",
       "version_major": 2,
       "version_minor": 0
      },
      "text/plain": [
       "VBox(children=(VBox(layout=Layout(max_height='300px')), HBox(children=(Textarea(value='', continuous_update=Fa…"
      ]
     },
     "metadata": {},
     "output_type": "display_data"
    }
   ],
   "source": [
    "chat_app.display()"
   ]
  },
  {
   "cell_type": "code",
   "execution_count": 6,
   "id": "e3b8e965",
   "metadata": {
    "height": 96
   },
   "outputs": [
    {
     "data": {
      "text/plain": [
       "\"\\ncan you tell me what orders i've placed in the last 3 months? my name is hank tate and my phone number is 555-123-4567\\n\""
      ]
     },
     "execution_count": 6,
     "metadata": {},
     "output_type": "execute_result"
    }
   ],
   "source": [
    "# Copy and paste this prompt into the chatbot above:\n",
    "\"\"\"\n",
    "can you tell me what orders i've placed in the last 3 months? my name is hank tate and my phone number is 555-123-4567\n",
    "\"\"\""
   ]
  },
  {
   "cell_type": "markdown",
   "id": "7801ef5f",
   "metadata": {},
   "source": [
    "Now examine the chat history - You'll notice that the PII in this message has been stored:"
   ]
  },
  {
   "cell_type": "code",
   "execution_count": 7,
   "id": "4db3c0e5-439e-434a-88b7-f66328325ed3",
   "metadata": {
    "height": 30
   },
   "outputs": [
    {
     "data": {
      "text/plain": [
       "[{'role': 'assistant',\n",
       "  'content': \"You are a customer support chatbot for Alfredo's Pizza Cafe. Your responses should be based solely on the provided information.\\n\\nHere are your instructions:\\n\\n### Role and Behavior\\n- You are a friendly and helpful customer support representative for Alfredo's Pizza Cafe.\\n- Only answer questions related to Alfredo's Pizza Cafe's menu, account management on the website, delivery times, and other directly relevant topics.\\n- Do not discuss other pizza chains or restaurants.\\n- Do not answer questions about topics unrelated to Alfredo's Pizza Cafe or its services.\\n\\n### Knowledge Limitations:\\n- Only use information provided in the knowledge base above.\\n- If a question cannot be answered using the information in the knowledge base, politely state that you don't have that information and offer to connect the user with a human representative.\\n- Do not make up or infer information that is not explicitly stated in the knowledge base.\\n\"}]"
      ]
     },
     "execution_count": 7,
     "metadata": {},
     "output_type": "execute_result"
    }
   ],
   "source": [
    "chat_app.messages"
   ]
  },
  {
   "cell_type": "markdown",
   "id": "35ff1b5e",
   "metadata": {},
   "source": [
    "## Using Microsoft Presidio to detect PII\n",
    "\n",
    "You'll use two components of Microsoft Presidio: the **analyzer**, which identifies PII in a given text, and the **anonymizer**, which can mask out PII in text:"
   ]
  },
  {
   "cell_type": "code",
   "execution_count": 8,
   "id": "3636e70e-8263-42d0-aaf8-6620625e3fce",
   "metadata": {
    "height": 47
   },
   "outputs": [],
   "source": [
    "presidio_analyzer = AnalyzerEngine()\n",
    "presidio_anonymizer = AnonymizerEngine()"
   ]
  },
  {
   "cell_type": "markdown",
   "id": "351afc3f",
   "metadata": {},
   "source": [
    "See the analyzer in action:"
   ]
  },
  {
   "cell_type": "code",
   "execution_count": 9,
   "id": "512e2229-2603-4b48-b7a8-749e54a4f5e7",
   "metadata": {
    "height": 79
   },
   "outputs": [],
   "source": [
    "# First, let's analyze the text\n",
    "text = \"can you tell me what orders i've placed in the last 3 months? my name is Hank Tate and my phone number is 555-123-4567\"\n",
    "analysis = presidio_analyzer.analyze(text, language=\"en\")"
   ]
  },
  {
   "cell_type": "code",
   "execution_count": 10,
   "id": "dfc8634f-86ed-4b5f-b12b-0381185896e8",
   "metadata": {
    "height": 30
   },
   "outputs": [
    {
     "data": {
      "text/plain": [
       "[type: DATE_TIME, start: 43, end: 60, score: 0.85,\n",
       " type: PERSON, start: 73, end: 82, score: 0.85,\n",
       " type: PHONE_NUMBER, start: 106, end: 118, score: 0.75]"
      ]
     },
     "execution_count": 10,
     "metadata": {},
     "output_type": "execute_result"
    }
   ],
   "source": [
    "analysis"
   ]
  },
  {
   "cell_type": "markdown",
   "id": "4c1e5cec",
   "metadata": {},
   "source": [
    "Now try out the anonymizer:"
   ]
  },
  {
   "cell_type": "code",
   "execution_count": 11,
   "id": "84e2c823-4b7a-4c31-9284-fc9695b501bd",
   "metadata": {
    "height": 62
   },
   "outputs": [
    {
     "name": "stdout",
     "output_type": "stream",
     "text": [
      "text: can you tell me what orders i've placed in <DATE_TIME>? my name is <PERSON> and my phone number is <PHONE_NUMBER>\n",
      "items:\n",
      "[\n",
      "    {'start': 99, 'end': 113, 'entity_type': 'PHONE_NUMBER', 'text': '<PHONE_NUMBER>', 'operator': 'replace'},\n",
      "    {'start': 67, 'end': 75, 'entity_type': 'PERSON', 'text': '<PERSON>', 'operator': 'replace'},\n",
      "    {'start': 43, 'end': 54, 'entity_type': 'DATE_TIME', 'text': '<DATE_TIME>', 'operator': 'replace'}\n",
      "]\n",
      "\n"
     ]
    }
   ],
   "source": [
    "# Then, we can anonymize the text using the analysis output\n",
    "print(presidio_anonymizer.anonymize(text=text, analyzer_results=analysis))"
   ]
  },
  {
   "cell_type": "markdown",
   "id": "30a7af7b-4071-46cf-93a2-afe5ecb6c9f1",
   "metadata": {},
   "source": [
    "## Building a PII Validator\n",
    "\n",
    "### Step 1: Implement a function to detect PII"
   ]
  },
  {
   "cell_type": "code",
   "execution_count": 12,
   "id": "284afd57-ba5c-4a7d-bb0b-3324692f0a8d",
   "metadata": {
    "height": 166
   },
   "outputs": [],
   "source": [
    "def detect_pii(text: str) -> list[str]:\n",
    "    result = presidio_analyzer.analyze(\n",
    "        text, language=\"en\", entities=[\"PERSON\", \"PHONE_NUMBER\"]\n",
    "    )\n",
    "    return [entity.entity_type for entity in result]"
   ]
  },
  {
   "cell_type": "markdown",
   "id": "d0ddd16e-37b6-4ad0-bf1c-74c605de8841",
   "metadata": {},
   "source": [
    "### Step 2: Create a Guardrail that filters out PII"
   ]
  },
  {
   "cell_type": "code",
   "execution_count": 13,
   "id": "88140ed6-f984-4b45-b950-725913268692",
   "metadata": {
    "height": 266
   },
   "outputs": [],
   "source": [
    "@register_validator(name=\"pii_detector\", data_type=\"string\")\n",
    "class PIIDetector(Validator):\n",
    "    def _validate(self, value: Any, metadata: Dict[str, Any] = {}) -> ValidationResult:\n",
    "        detected_pii = detect_pii(value)\n",
    "        if detected_pii:\n",
    "            return FailResult(\n",
    "                error_message=f\"PII detected: {', '.join(detected_pii)}\",\n",
    "                metadata={\"detected_pii\": detected_pii},\n",
    "            )\n",
    "        return PassResult(message=\"No PII detected\")"
   ]
  },
  {
   "cell_type": "markdown",
   "id": "d3ea31ef-3545-48c7-9441-f2d308196267",
   "metadata": {},
   "source": [
    "### Step 3: Create a Guard that ensures no PII is leaked\n",
    "\n",
    "Initalize the guard and try it out on the message from above."
   ]
  },
  {
   "cell_type": "code",
   "execution_count": 14,
   "id": "c15e5169-f6ac-4d24-a550-299258ba2e6e",
   "metadata": {
    "height": 198
   },
   "outputs": [
    {
     "name": "stdout",
     "output_type": "stream",
     "text": [
      "Validation failed for field with errors: PII detected: PERSON, PHONE_NUMBER\n"
     ]
    }
   ],
   "source": [
    "guard = Guard(name=\"pii_guard\").use(\n",
    "    PIIDetector(on_fail=OnFailAction.EXCEPTION),\n",
    ")\n",
    "\n",
    "try:\n",
    "    guard.validate(\n",
    "        \"can you tell me what orders i've placed in the last 3 months? my name is Hank Tate and my phone number is 555-123-4567\"\n",
    "    )\n",
    "except Exception as e:\n",
    "    print(e)"
   ]
  },
  {
   "cell_type": "markdown",
   "id": "aed3fc46-8068-470b-be35-bb19caf0e3f2",
   "metadata": {},
   "source": [
    "## Run Guardrails Server"
   ]
  },
  {
   "cell_type": "code",
   "execution_count": 15,
   "id": "8d9cecb5-eb2c-4eca-b02d-4f7b69a5c410",
   "metadata": {
    "height": 147
   },
   "outputs": [],
   "source": [
    "guarded_client = OpenAI(base_url=\"http://localhost:8000/guards/pii_guard/openai/v1/\")\n",
    "\n",
    "guarded_rag_chatbot = RAGChatWidget(\n",
    "    client=guarded_client,\n",
    "    system_message=system_message,\n",
    "    vector_db=vector_db,\n",
    ")"
   ]
  },
  {
   "cell_type": "code",
   "execution_count": 16,
   "id": "2c416fcd-dd2d-499f-aa81-a33803272d80",
   "metadata": {
    "height": 30
   },
   "outputs": [
    {
     "data": {
      "application/vnd.jupyter.widget-view+json": {
       "model_id": "d4ec8298d2eb440697329ed2518599a4",
       "version_major": 2,
       "version_minor": 0
      },
      "text/plain": [
       "VBox(children=(VBox(layout=Layout(max_height='300px')), HBox(children=(Textarea(value='', continuous_update=Fa…"
      ]
     },
     "metadata": {},
     "output_type": "display_data"
    }
   ],
   "source": [
    "guarded_rag_chatbot.display()"
   ]
  },
  {
   "cell_type": "code",
   "execution_count": 17,
   "id": "aad45f11",
   "metadata": {
    "height": 96
   },
   "outputs": [
    {
     "data": {
      "text/plain": [
       "\"\\ncan you tell me what orders i've placed in the last 3 months? my name is hank tate and my phone number is 555-123-4567\\n\""
      ]
     },
     "execution_count": 17,
     "metadata": {},
     "output_type": "execute_result"
    }
   ],
   "source": [
    "# Copy and paste this prompt into the chatbot above:\n",
    "\"\"\"\n",
    "can you tell me what orders i've placed in the last 3 months? my name is hank tate and my phone number is 555-123-4567\n",
    "\"\"\""
   ]
  },
  {
   "cell_type": "markdown",
   "id": "1bfa1bff",
   "metadata": {},
   "source": [
    "Now examine the backend: you'll see that the message containing the PII has not been saved:"
   ]
  },
  {
   "cell_type": "code",
   "execution_count": 18,
   "id": "c1c63527-7359-4530-bd88-137217f80e9b",
   "metadata": {
    "height": 30
   },
   "outputs": [
    {
     "data": {
      "text/plain": [
       "[{'role': 'assistant',\n",
       "  'content': \"You are a customer support chatbot for Alfredo's Pizza Cafe. Your responses should be based solely on the provided information.\\n\\nHere are your instructions:\\n\\n### Role and Behavior\\n- You are a friendly and helpful customer support representative for Alfredo's Pizza Cafe.\\n- Only answer questions related to Alfredo's Pizza Cafe's menu, account management on the website, delivery times, and other directly relevant topics.\\n- Do not discuss other pizza chains or restaurants.\\n- Do not answer questions about topics unrelated to Alfredo's Pizza Cafe or its services.\\n\\n### Knowledge Limitations:\\n- Only use information provided in the knowledge base above.\\n- If a question cannot be answered using the information in the knowledge base, politely state that you don't have that information and offer to connect the user with a human representative.\\n- Do not make up or infer information that is not explicitly stated in the knowledge base.\\n\"}]"
      ]
     },
     "execution_count": 18,
     "metadata": {},
     "output_type": "execute_result"
    }
   ],
   "source": [
    "guarded_rag_chatbot.messages"
   ]
  },
  {
   "cell_type": "markdown",
   "id": "0153268e-05cc-4192-ab52-0be1278ac3cc",
   "metadata": {},
   "source": [
    "## Real Time Stream Validation\n",
    "\n",
    "Here you'll use the DetectPII guard to anonymize text generated by an LLM in real time! \n",
    "\n",
    "First, set up a new guard that uses the pii_entities guard to validate the **output** of the LLM. This time, you'll set `on_fail` to fix, which will replace the detected PII before it is shown to the user:"
   ]
  },
  {
   "cell_type": "code",
   "execution_count": 19,
   "id": "b7cf7b9d-f470-4b86-959e-bca03904f109",
   "metadata": {
    "height": 113
   },
   "outputs": [],
   "source": [
    "from guardrails.hub import DetectPII\n",
    "\n",
    "guard = Guard().use(\n",
    "    DetectPII(pii_entities=[\"PHONE_NUMBER\", \"EMAIL_ADDRESS\"], on_fail=\"fix\")\n",
    ")"
   ]
  },
  {
   "cell_type": "markdown",
   "id": "fa207a5e",
   "metadata": {},
   "source": [
    "Now use the guard in a call to an LLM to anonymize the output. You'll use the `stream=True` to use the validator on each LLM chunk and replace PII before it is shown to the user:"
   ]
  },
  {
   "cell_type": "code",
   "execution_count": 20,
   "id": "44979277-ecea-4725-b1ac-2287fd50ccee",
   "metadata": {
    "height": 368
   },
   "outputs": [
    {
     "name": "stdout",
     "output_type": "stream",
     "text": [
      "The protagonist walked through the bustling city streets, their phone buzzing with notifications from different numbers like <PHONE_NUMBER> and <PHONE_NUMBER>. Despite the chaos around them, they remained focused on their mission, determined to find the truth hidden within the cryptic messages.\n"
     ]
    }
   ],
   "source": [
    "from IPython.display import clear_output\n",
    "\n",
    "validated_llm_req = guard(\n",
    "    model=\"gpt-3.5-turbo\",\n",
    "    messages=[\n",
    "        {\"role\": \"system\", \"content\": \"You are a chatbot.\"},\n",
    "        {\n",
    "            \"role\": \"user\",\n",
    "            \"content\": \"Write a short 2-sentence paragraph about an unnamed protagonist while interspersing some made-up 10 digit phone numbers for the protagonist.\",\n",
    "        },\n",
    "    ],\n",
    "    stream=True,\n",
    ")\n",
    "\n",
    "validated_output = \"\"\n",
    "for chunk in validated_llm_req:\n",
    "    clear_output(wait=True)\n",
    "    validated_output = \"\".join([validated_output, chunk.validated_output])\n",
    "    print(validated_output)\n",
    "    time.sleep(1)"
   ]
  },
  {
   "cell_type": "code",
   "execution_count": null,
   "id": "8f82e6e9-ea0d-44c4-b9a8-9a38b5d4b090",
   "metadata": {
    "height": 30
   },
   "outputs": [],
   "source": []
  }
 ],
 "metadata": {
  "kernelspec": {
   "display_name": "Python 3 (ipykernel)",
   "language": "python",
   "name": "python3"
  },
  "language_info": {
   "codemirror_mode": {
    "name": "ipython",
    "version": 3
   },
   "file_extension": ".py",
   "mimetype": "text/x-python",
   "name": "python",
   "nbconvert_exporter": "python",
   "pygments_lexer": "ipython3",
   "version": "3.11.13"
  }
 },
 "nbformat": 4,
 "nbformat_minor": 5
}
