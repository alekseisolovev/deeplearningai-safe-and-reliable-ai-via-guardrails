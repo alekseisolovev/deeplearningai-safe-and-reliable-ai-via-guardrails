{
 "cells": [
  {
   "cell_type": "markdown",
   "id": "a2caa3dd",
   "metadata": {},
   "source": [
    "# Lesson 8 - Preventing competitor mentions\n",
    "\n",
    "Start by setting up the notebook to minimize warnings, and importing required libraries:"
   ]
  },
  {
   "cell_type": "code",
   "execution_count": 1,
   "id": "05b5163d-6cca-480a-ac83-ff77dc593770",
   "metadata": {
    "height": 64
   },
   "outputs": [
    {
     "name": "stdout",
     "output_type": "stream",
     "text": [
      "env: TOKENIZERS_PARALLELISM=true\n"
     ]
    }
   ],
   "source": [
    "import warnings\n",
    "\n",
    "warnings.filterwarnings(\"ignore\")\n",
    "%env TOKENIZERS_PARALLELISM=true"
   ]
  },
  {
   "cell_type": "code",
   "execution_count": 2,
   "id": "7237e29a-eb41-45cb-9dd7-26029cf035cb",
   "metadata": {
    "height": 285
   },
   "outputs": [],
   "source": [
    "from typing import Optional\n",
    "\n",
    "from guardrails import Guard\n",
    "from guardrails.errors import ValidationError\n",
    "from guardrails.validator_base import (\n",
    "    FailResult,\n",
    "    PassResult,\n",
    "    ValidationResult,\n",
    "    Validator,\n",
    "    register_validator,\n",
    ")\n",
    "from helper import RAGChatWidget, SimpleVectorDB\n",
    "from openai import OpenAI\n",
    "from transformers import pipeline\n",
    "\n",
    "# from IPython.display import clear_output"
   ]
  },
  {
   "cell_type": "markdown",
   "id": "ddc8be7f",
   "metadata": {},
   "source": [
    "Set up the client, vector database, and system message for the chatbot:"
   ]
  },
  {
   "cell_type": "code",
   "execution_count": 3,
   "id": "300ddee1-6e7c-4949-90a4-1860039e2c56",
   "metadata": {
    "height": 402
   },
   "outputs": [
    {
     "data": {
      "application/vnd.jupyter.widget-view+json": {
       "model_id": "a467836ef2ca4cddaece9f8f232a3e4b",
       "version_major": 2,
       "version_minor": 0
      },
      "text/plain": [
       "modules.json:   0%|          | 0.00/349 [00:00<?, ?B/s]"
      ]
     },
     "metadata": {},
     "output_type": "display_data"
    },
    {
     "data": {
      "application/vnd.jupyter.widget-view+json": {
       "model_id": "6cf32fcf0882449e81c28fe122ed0508",
       "version_major": 2,
       "version_minor": 0
      },
      "text/plain": [
       "config_sentence_transformers.json:   0%|          | 0.00/116 [00:00<?, ?B/s]"
      ]
     },
     "metadata": {},
     "output_type": "display_data"
    },
    {
     "data": {
      "application/vnd.jupyter.widget-view+json": {
       "model_id": "7ee9050212e24f4c8be93ea81246adcc",
       "version_major": 2,
       "version_minor": 0
      },
      "text/plain": [
       "README.md: 0.00B [00:00, ?B/s]"
      ]
     },
     "metadata": {},
     "output_type": "display_data"
    },
    {
     "data": {
      "application/vnd.jupyter.widget-view+json": {
       "model_id": "9615ae219816412f871d0446ce8eeee1",
       "version_major": 2,
       "version_minor": 0
      },
      "text/plain": [
       "sentence_bert_config.json:   0%|          | 0.00/53.0 [00:00<?, ?B/s]"
      ]
     },
     "metadata": {},
     "output_type": "display_data"
    },
    {
     "data": {
      "application/vnd.jupyter.widget-view+json": {
       "model_id": "41f63a4662714b59b7e3300433d4fff5",
       "version_major": 2,
       "version_minor": 0
      },
      "text/plain": [
       "config.json:   0%|          | 0.00/612 [00:00<?, ?B/s]"
      ]
     },
     "metadata": {},
     "output_type": "display_data"
    },
    {
     "data": {
      "application/vnd.jupyter.widget-view+json": {
       "model_id": "d2003909e2314b6ea64b874c70ff24df",
       "version_major": 2,
       "version_minor": 0
      },
      "text/plain": [
       "model.safetensors:   0%|          | 0.00/90.9M [00:00<?, ?B/s]"
      ]
     },
     "metadata": {},
     "output_type": "display_data"
    },
    {
     "data": {
      "application/vnd.jupyter.widget-view+json": {
       "model_id": "048322fe09cd4988a2ef0e99e4cac007",
       "version_major": 2,
       "version_minor": 0
      },
      "text/plain": [
       "tokenizer_config.json:   0%|          | 0.00/350 [00:00<?, ?B/s]"
      ]
     },
     "metadata": {},
     "output_type": "display_data"
    },
    {
     "data": {
      "application/vnd.jupyter.widget-view+json": {
       "model_id": "9b85a7848dc444369f260946f9abf228",
       "version_major": 2,
       "version_minor": 0
      },
      "text/plain": [
       "vocab.txt: 0.00B [00:00, ?B/s]"
      ]
     },
     "metadata": {},
     "output_type": "display_data"
    },
    {
     "data": {
      "application/vnd.jupyter.widget-view+json": {
       "model_id": "442174168b494a50b950d4e7ac845825",
       "version_major": 2,
       "version_minor": 0
      },
      "text/plain": [
       "tokenizer.json: 0.00B [00:00, ?B/s]"
      ]
     },
     "metadata": {},
     "output_type": "display_data"
    },
    {
     "data": {
      "application/vnd.jupyter.widget-view+json": {
       "model_id": "6037b122b05e4386bc85bf7fa72aefa8",
       "version_major": 2,
       "version_minor": 0
      },
      "text/plain": [
       "special_tokens_map.json:   0%|          | 0.00/112 [00:00<?, ?B/s]"
      ]
     },
     "metadata": {},
     "output_type": "display_data"
    },
    {
     "data": {
      "application/vnd.jupyter.widget-view+json": {
       "model_id": "a617aa0d6116459a97d07ad4c9798e88",
       "version_major": 2,
       "version_minor": 0
      },
      "text/plain": [
       "config.json:   0%|          | 0.00/190 [00:00<?, ?B/s]"
      ]
     },
     "metadata": {},
     "output_type": "display_data"
    }
   ],
   "source": [
    "# Setup an OpenAI client\n",
    "unguarded_client = OpenAI()\n",
    "\n",
    "# Load up our documents that make up the knowledge base\n",
    "vector_db = SimpleVectorDB.from_files(\"shared_data/\")\n",
    "\n",
    "# Setup system message\n",
    "system_message = \"\"\"You are a customer support chatbot for Alfredo's Pizza Cafe. Your responses should be based solely on the provided information.\n",
    "\n",
    "Here are your instructions:\n",
    "\n",
    "### Role and Behavior\n",
    "- You are a friendly and helpful customer support representative for Alfredo's Pizza Cafe.\n",
    "- Only answer questions related to Alfredo's Pizza Cafe's menu, account management on the website, delivery times, and other directly relevant topics.\n",
    "- Do not discuss other pizza chains or restaurants.\n",
    "- Do not answer questions about topics unrelated to Alfredo's Pizza Cafe or its services.\n",
    "\n",
    "### Knowledge Limitations:\n",
    "- Only use information provided in the knowledge base above.\n",
    "- If a question cannot be answered using the information in the knowledge base, politely state that you don't have that information and offer to connect the user with a human representative.\n",
    "- Do not make up or infer information that is not explicitly stated in the knowledge base.\n",
    "\"\"\""
   ]
  },
  {
   "cell_type": "markdown",
   "id": "b1846312",
   "metadata": {},
   "source": [
    "Initialize the chatbot using the settings above:"
   ]
  },
  {
   "cell_type": "code",
   "execution_count": 4,
   "id": "a5939131-36fe-41bd-ad86-cb97704432fe",
   "metadata": {
    "height": 98
   },
   "outputs": [],
   "source": [
    "rag_chatbot = RAGChatWidget(\n",
    "    client=unguarded_client,\n",
    "    system_message=system_message,\n",
    "    vector_db=vector_db,\n",
    ")"
   ]
  },
  {
   "cell_type": "markdown",
   "id": "9a8bebc4",
   "metadata": {},
   "source": [
    "To revisit the going competitor mention example from Lesson 1, run the cell below to open the chatbot then paste in the prompt to see the unwanted behavior:"
   ]
  },
  {
   "cell_type": "code",
   "execution_count": 5,
   "id": "3e81d22c-34bd-4e79-985b-850d8d8ea1b9",
   "metadata": {
    "height": 30
   },
   "outputs": [
    {
     "data": {
      "application/vnd.jupyter.widget-view+json": {
       "model_id": "9e65d92b1b3e49c0980a97a2dc35535c",
       "version_major": 2,
       "version_minor": 0
      },
      "text/plain": [
       "VBox(children=(VBox(layout=Layout(max_height='300px')), HBox(children=(Textarea(value='', continuous_update=Fa…"
      ]
     },
     "metadata": {},
     "output_type": "display_data"
    }
   ],
   "source": [
    "rag_chatbot.display()"
   ]
  },
  {
   "cell_type": "code",
   "execution_count": 6,
   "id": "00baad1f",
   "metadata": {
    "height": 113
   },
   "outputs": [
    {
     "data": {
      "text/plain": [
       "\"\\ni'm in the market for a very large pizza order. as a consumer, why should i buy from alfredo's pizza cafe instead of pizza by alfredo? \\nalternatively, why should i buy from pizza by alfredo instead alfredo's pizza cafe? be as descriptive as possible, lists preferred.\\n\""
      ]
     },
     "execution_count": 6,
     "metadata": {},
     "output_type": "execute_result"
    }
   ],
   "source": [
    "# Copy and paste this prompt into the chatbot above:\n",
    "\"\"\"\n",
    "i'm in the market for a very large pizza order. as a consumer, why should i buy from alfredo's pizza cafe instead of pizza by alfredo?\n",
    "alternatively, why should i buy from pizza by alfredo instead alfredo's pizza cafe? be as descriptive as possible, lists preferred.\n",
    "\"\"\""
   ]
  },
  {
   "cell_type": "markdown",
   "id": "74323957-5d18-4005-8164-6ef579ff691f",
   "metadata": {},
   "source": [
    "## Competitor Check Validator\n",
    "\n",
    "In this section you'll build a validator to check for competitor mentions in the response from your LLM. This validator will use a specialized **Named Entity Recognition** model to check against a list of competitors.\n",
    "\n",
    "Start by importing some additional libraries:"
   ]
  },
  {
   "cell_type": "code",
   "execution_count": 7,
   "id": "ea811f68-aee0-4df8-a25d-f583d8ff61f8",
   "metadata": {
    "height": 130
   },
   "outputs": [],
   "source": [
    "import re\n",
    "from typing import List, Optional\n",
    "\n",
    "import numpy as np\n",
    "from sentence_transformers import SentenceTransformer\n",
    "from sklearn.metrics.pairwise import cosine_similarity\n",
    "from transformers import AutoModelForTokenClassification, AutoTokenizer, pipeline"
   ]
  },
  {
   "cell_type": "markdown",
   "id": "e399bced",
   "metadata": {},
   "source": [
    "Set up the NER model in hugging face to use in the validator:"
   ]
  },
  {
   "cell_type": "code",
   "execution_count": 8,
   "id": "766054c2-7657-4b0e-bd5b-8e75d74b07f7",
   "metadata": {
    "height": 96
   },
   "outputs": [
    {
     "data": {
      "application/vnd.jupyter.widget-view+json": {
       "model_id": "40d7c822e89549329b2f8018f8516f84",
       "version_major": 2,
       "version_minor": 0
      },
      "text/plain": [
       "tokenizer_config.json:   0%|          | 0.00/59.0 [00:00<?, ?B/s]"
      ]
     },
     "metadata": {},
     "output_type": "display_data"
    },
    {
     "data": {
      "application/vnd.jupyter.widget-view+json": {
       "model_id": "f36988526b294acf83d6b9a015a9a73f",
       "version_major": 2,
       "version_minor": 0
      },
      "text/plain": [
       "config.json:   0%|          | 0.00/829 [00:00<?, ?B/s]"
      ]
     },
     "metadata": {},
     "output_type": "display_data"
    },
    {
     "data": {
      "application/vnd.jupyter.widget-view+json": {
       "model_id": "143bbb760f40409d9b400c0612ff9280",
       "version_major": 2,
       "version_minor": 0
      },
      "text/plain": [
       "vocab.txt: 0.00B [00:00, ?B/s]"
      ]
     },
     "metadata": {},
     "output_type": "display_data"
    },
    {
     "data": {
      "application/vnd.jupyter.widget-view+json": {
       "model_id": "0671b647c6264c00bd45e9ae868b6589",
       "version_major": 2,
       "version_minor": 0
      },
      "text/plain": [
       "added_tokens.json:   0%|          | 0.00/2.00 [00:00<?, ?B/s]"
      ]
     },
     "metadata": {},
     "output_type": "display_data"
    },
    {
     "data": {
      "application/vnd.jupyter.widget-view+json": {
       "model_id": "52252dca97874e36a9fa01ec222a516e",
       "version_major": 2,
       "version_minor": 0
      },
      "text/plain": [
       "special_tokens_map.json:   0%|          | 0.00/112 [00:00<?, ?B/s]"
      ]
     },
     "metadata": {},
     "output_type": "display_data"
    },
    {
     "data": {
      "application/vnd.jupyter.widget-view+json": {
       "model_id": "f4e2ba6824d24be6b80624687889723d",
       "version_major": 2,
       "version_minor": 0
      },
      "text/plain": [
       "model.safetensors:   0%|          | 0.00/433M [00:00<?, ?B/s]"
      ]
     },
     "metadata": {},
     "output_type": "display_data"
    },
    {
     "name": "stderr",
     "output_type": "stream",
     "text": [
      "Some weights of the model checkpoint at dslim/bert-base-NER were not used when initializing BertForTokenClassification: ['bert.pooler.dense.bias', 'bert.pooler.dense.weight']\n",
      "- This IS expected if you are initializing BertForTokenClassification from the checkpoint of a model trained on another task or with another architecture (e.g. initializing a BertForSequenceClassification model from a BertForPreTraining model).\n",
      "- This IS NOT expected if you are initializing BertForTokenClassification from the checkpoint of a model that you expect to be exactly identical (initializing a BertForSequenceClassification model from a BertForSequenceClassification model).\n"
     ]
    }
   ],
   "source": [
    "# Initialize NER pipeline\n",
    "tokenizer = AutoTokenizer.from_pretrained(\"dslim/bert-base-NER\")\n",
    "model = AutoModelForTokenClassification.from_pretrained(\"dslim/bert-base-NER\")\n",
    "NER = pipeline(\"ner\", model=model, tokenizer=tokenizer)"
   ]
  },
  {
   "cell_type": "markdown",
   "id": "203d4feb",
   "metadata": {},
   "source": [
    "Build that validator logic:"
   ]
  },
  {
   "cell_type": "code",
   "execution_count": 9,
   "id": "f933eac3-3bdd-4c26-b714-c9808aeee8c6",
   "metadata": {
    "height": 1626
   },
   "outputs": [],
   "source": [
    "@register_validator(name=\"check_competitor_mentions\", data_type=\"string\")\n",
    "class CheckCompetitorMentions(Validator):\n",
    "    def __init__(self, competitors: List[str], **kwargs):\n",
    "        self.competitors = competitors\n",
    "        self.competitors_lower = [comp.lower() for comp in competitors]\n",
    "\n",
    "        self.ner = NER\n",
    "\n",
    "        # Initialize sentence transformer for vector embeddings\n",
    "        self.sentence_model = SentenceTransformer(\"all-MiniLM-L6-v2\")\n",
    "\n",
    "        # Pre-compute competitor embeddings\n",
    "        self.competitor_embeddings = self.sentence_model.encode(self.competitors)\n",
    "\n",
    "        # Set the similarity threshold\n",
    "        self.similarity_threshold = 0.6\n",
    "\n",
    "        super().__init__(**kwargs)\n",
    "\n",
    "    def exact_match(self, text: str) -> List[str]:\n",
    "        text_lower = text.lower()\n",
    "        matches = []\n",
    "        for comp, comp_lower in zip(self.competitors, self.competitors_lower):\n",
    "            if comp_lower in text_lower:\n",
    "                # Use regex to find whole word matches\n",
    "                if re.search(r\"\\b\" + re.escape(comp_lower) + r\"\\b\", text_lower):\n",
    "                    matches.append(comp)\n",
    "        return matches\n",
    "\n",
    "    def extract_entities(self, text: str) -> List[str]:\n",
    "        ner_results = self.ner(text)\n",
    "        entities = []\n",
    "        current_entity = \"\"\n",
    "\n",
    "        for item in ner_results:\n",
    "            if item[\"entity\"].startswith(\"B-\"):\n",
    "                if current_entity:\n",
    "                    entities.append(current_entity.strip())\n",
    "                current_entity = item[\"word\"]\n",
    "            elif item[\"entity\"].startswith(\"I-\"):\n",
    "                current_entity += \" \" + item[\"word\"]\n",
    "\n",
    "        if current_entity:\n",
    "            entities.append(current_entity.strip())\n",
    "\n",
    "        return entities\n",
    "\n",
    "    def vector_similarity_match(self, entities: List[str]) -> List[str]:\n",
    "        if not entities:\n",
    "            return []\n",
    "\n",
    "        entity_embeddings = self.sentence_model.encode(entities)\n",
    "        similarities = cosine_similarity(entity_embeddings, self.competitor_embeddings)\n",
    "\n",
    "        matches = []\n",
    "        for i, entity in enumerate(entities):\n",
    "            max_similarity = np.max(similarities[i])\n",
    "            if max_similarity >= self.similarity_threshold:\n",
    "                most_similar_competitor = self.competitors[np.argmax(similarities[i])]\n",
    "                matches.append(most_similar_competitor)\n",
    "        return matches\n",
    "\n",
    "    def validate(self, value: str, metadata: Optional[dict[str, str]] = None):\n",
    "        # Step 1: Perform exact matching on the entire text\n",
    "        exact_matches = self.exact_match(value)\n",
    "\n",
    "        if exact_matches:\n",
    "            return FailResult(\n",
    "                error_message=f\"Your response directly mentions competitors: {', '.join(exact_matches)}\"\n",
    "            )\n",
    "\n",
    "        # Step 2: Extract named entities\n",
    "        entities = self.extract_entities(value)\n",
    "\n",
    "        # Step 3: Perform vector similarity matching\n",
    "        similarity_matches = self.vector_similarity_match(entities)\n",
    "\n",
    "        # Step 4: Combine matches and check if any were found\n",
    "        all_matches = list(set(exact_matches + similarity_matches))\n",
    "\n",
    "        if all_matches:\n",
    "            return FailResult(\n",
    "                error_message=f\"Your response mentions competitors: {', '.join(all_matches)}\"\n",
    "            )\n",
    "\n",
    "        return PassResult()"
   ]
  },
  {
   "cell_type": "markdown",
   "id": "82797f88-d81c-4692-b492-459b6268ff76",
   "metadata": {},
   "source": [
    "## Run Guardrails Server\n",
    "\n",
    "In this section, you'll use a state of the art topic classifier guard from the guardrails hub. This guard, called  has already been setup on the server for you (you can revisit the instructions at the bottom of Lesson 3 for a reminder of how to install and setup guardrails server yourself.)\n",
    "\n",
    "Set up the guarded client:"
   ]
  },
  {
   "cell_type": "code",
   "execution_count": 10,
   "id": "9b36510c-3923-4c7e-9aa5-fddb7f833c5c",
   "metadata": {
    "height": 79
   },
   "outputs": [],
   "source": [
    "guarded_client = OpenAI(\n",
    "    base_url=\"http://localhost:8000/guards/competitor_check/openai/v1/\"\n",
    ")"
   ]
  },
  {
   "cell_type": "markdown",
   "id": "eb51f4f2",
   "metadata": {},
   "source": [
    "Initialize the guarded RAG chatbot:"
   ]
  },
  {
   "cell_type": "code",
   "execution_count": 11,
   "id": "b0a8fde8-9259-4c60-9c7c-a5a7ba914da1",
   "metadata": {
    "height": 98
   },
   "outputs": [],
   "source": [
    "guarded_rag_chatbot = RAGChatWidget(\n",
    "    client=guarded_client,\n",
    "    system_message=system_message,\n",
    "    vector_db=vector_db,\n",
    ")"
   ]
  },
  {
   "cell_type": "markdown",
   "id": "5947fb2c",
   "metadata": {},
   "source": [
    "Next, display the chatbot and copy in the prompt below to see the competitor mention guard in action:"
   ]
  },
  {
   "cell_type": "code",
   "execution_count": 12,
   "id": "820047a3-a035-4f48-ab91-fa26e7852461",
   "metadata": {
    "height": 30
   },
   "outputs": [
    {
     "data": {
      "application/vnd.jupyter.widget-view+json": {
       "model_id": "25b3dee715c64f24a082377c5af390b8",
       "version_major": 2,
       "version_minor": 0
      },
      "text/plain": [
       "VBox(children=(VBox(layout=Layout(max_height='300px')), HBox(children=(Textarea(value='', continuous_update=Fa…"
      ]
     },
     "metadata": {},
     "output_type": "display_data"
    }
   ],
   "source": [
    "guarded_rag_chatbot.display()"
   ]
  },
  {
   "cell_type": "code",
   "execution_count": 13,
   "id": "7d8db5ae",
   "metadata": {
    "height": 113
   },
   "outputs": [
    {
     "data": {
      "text/plain": [
       "\"\\ni'm in the market for a very large pizza order. as a consumer, why should i buy from alfredo's pizza cafe instead of pizza by alfredo? \\nalternatively, why should i buy from pizza by alfredo instead alfredo's pizza cafe? be as descriptive as possible, lists preferred.\\n\""
      ]
     },
     "execution_count": 13,
     "metadata": {},
     "output_type": "execute_result"
    }
   ],
   "source": [
    "# Copy and paste this prompt into the chatbot above:\n",
    "\"\"\"\n",
    "i'm in the market for a very large pizza order. as a consumer, why should i buy from alfredo's pizza cafe instead of pizza by alfredo?\n",
    "alternatively, why should i buy from pizza by alfredo instead alfredo's pizza cafe? be as descriptive as possible, lists preferred.\n",
    "\"\"\""
   ]
  },
  {
   "cell_type": "code",
   "execution_count": null,
   "id": "8ee137a4-4d53-466f-9393-a3b40d4d2e09",
   "metadata": {
    "height": 30
   },
   "outputs": [],
   "source": []
  }
 ],
 "metadata": {
  "kernelspec": {
   "display_name": "Python 3 (ipykernel)",
   "language": "python",
   "name": "python3"
  },
  "language_info": {
   "codemirror_mode": {
    "name": "ipython",
    "version": 3
   },
   "file_extension": ".py",
   "mimetype": "text/x-python",
   "name": "python",
   "nbconvert_exporter": "python",
   "pygments_lexer": "ipython3",
   "version": "3.11.13"
  }
 },
 "nbformat": 4,
 "nbformat_minor": 5
}
